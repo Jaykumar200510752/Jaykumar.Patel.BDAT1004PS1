{
 "cells": [
  {
   "cell_type": "markdown",
   "id": "9a16320a",
   "metadata": {},
   "source": [
    "#Question 6 Python\n",
    "\n",
    "You can turn a word into pig-Latin using the following two rules (simplified):\n",
    "    \n",
    "    • If the word starts with a consonant, move that letter to the end and append \n",
    "    'ay'. For example, 'happy' becomes 'appyhay' and 'pencil' becomes 'encilpay'.\n",
    "    \n",
    "    • If the word starts with a vowel, simply append 'way' to the end of the word. \n",
    "    For example, 'enter' becomes 'enterway' and 'other' becomes 'otherway' . For \n",
    "    our purposes, there are 5 vowels: a, e, i, o, u (so we count y as a consonant).\n",
    "    \n",
    "Write a function pig() that takes a word (i.e., a string) as input and returns its pigLatin form. Your function should still work if the input word contains upper case \n",
    "    characters. Your output should always be lower case however.\n",
    "    \n",
    "    >>> pig('happy')\n",
    "    'appyhay'\n",
    "    >>> pig('Enter')\n",
    "    'enterway'\n"
   ]
  },
  {
   "cell_type": "code",
   "execution_count": 5,
   "id": "396da8da",
   "metadata": {},
   "outputs": [],
   "source": [
    "def pig(str):\n",
    "    str1=str.lower()\n",
    "    vowels =['a','e','i','o','u']\n",
    "    if str1[0] in vowels:\n",
    "        return str1 + 'way'\n",
    "    else:\n",
    "        return str1[1:] + 'ay'"
   ]
  },
  {
   "cell_type": "code",
   "execution_count": 8,
   "id": "9c0773e3",
   "metadata": {
    "scrolled": false
   },
   "outputs": [
    {
     "data": {
      "text/plain": [
       "'enterway'"
      ]
     },
     "execution_count": 8,
     "metadata": {},
     "output_type": "execute_result"
    }
   ],
   "source": [
    "pig('Enter')"
   ]
  },
  {
   "cell_type": "markdown",
   "id": "33932e5d",
   "metadata": {},
   "source": [
    "#Question 7 Python\n",
    "\n",
    "File bloodtype1.txt records blood-types of patients (A, B, AB, O or OO) at a clinic. \n",
    "    Write a function bldcount() that reads the file with name name and reports (i.e., \n",
    "    prints) how many patients there are in each bloodtype.\n",
    "    \n",
    "    >>> bldcount('bloodtype.txt')\n",
    "    \n",
    "    There are 10 patients of blood type A.\n",
    "    There is one patient of blood type B.\n",
    "    There are 10 patients of blood type AB.\n",
    "    There are 12 patients of blood type O.\n",
    "    There are no patients of blood type OO."
   ]
  },
  {
   "cell_type": "code",
   "execution_count": 56,
   "id": "0766d8cb",
   "metadata": {},
   "outputs": [],
   "source": [
    "def bldcount(name):\n",
    "    x=open(name, 'r')\n",
    "    a= x.read()\n",
    "    x.close()\n",
    "    a=a.split()\n",
    "    btype = ['A','B','AB','O','OO']\n",
    "    for i in btype:\n",
    "        if a.count(i)==1:\n",
    "            print('There is one patient of blood type',i)\n",
    "        elif a.count(i)==0:\n",
    "            print('There are no patients of blood type',i)\n",
    "        else:\n",
    "            print('There are',a.count(i),'patients of blood type', i)"
   ]
  },
  {
   "cell_type": "code",
   "execution_count": 55,
   "id": "571fb2db",
   "metadata": {},
   "outputs": [
    {
     "name": "stdout",
     "output_type": "stream",
     "text": [
      "There are 10 patients of blood type A\n",
      "There is one patient of blood type B\n",
      "There are 10 patients of blood type AB\n",
      "There are 12 patients of blood type O\n",
      "There are no patients of blood type OO\n"
     ]
    }
   ],
   "source": [
    "bldcount('bloodtype1.txt')"
   ]
  },
  {
   "cell_type": "markdown",
   "id": "bae1283f",
   "metadata": {},
   "source": [
    "#Question 8 Python\n",
    "\n",
    "Write a function curconv() that takes as input:\n",
    "    1. a currency represented using a string (e.g., 'JPY' for the Japanese Yen or 'EUR' for the Euro)\n",
    "    2. an amount\n",
    "    and then converts and returns the amount in US dollars.\n",
    "    \n",
    "    >>> curconv('EUR', 100)\n",
    "    122.96544\n",
    "    >>> curconv('JPY', 100)\n",
    "    1.241401"
   ]
  },
  {
   "cell_type": "code",
   "execution_count": 70,
   "id": "97e326bf",
   "metadata": {},
   "outputs": [],
   "source": [
    "def curconv(curr, x):\n",
    "    a= open('currencies.txt', 'r')\n",
    "    price = a.readlines()\n",
    "    a.close()\n",
    "    for lines in price:\n",
    "        if curr == lines.split()[0]:\n",
    "            return float(lines.split()[1])*x"
   ]
  },
  {
   "cell_type": "code",
   "execution_count": 71,
   "id": "70407f10",
   "metadata": {},
   "outputs": [
    {
     "data": {
      "text/plain": [
       "122.96544"
      ]
     },
     "execution_count": 71,
     "metadata": {},
     "output_type": "execute_result"
    }
   ],
   "source": [
    "curconv ('EUR',100)"
   ]
  },
  {
   "cell_type": "code",
   "execution_count": 72,
   "id": "13396bed",
   "metadata": {},
   "outputs": [
    {
     "data": {
      "text/plain": [
       "1.241401"
      ]
     },
     "execution_count": 72,
     "metadata": {},
     "output_type": "execute_result"
    }
   ],
   "source": [
    "curconv('JPY', 100)"
   ]
  },
  {
   "cell_type": "markdown",
   "id": "7379b1e8",
   "metadata": {},
   "source": [
    "#Question 9 Python\n",
    "\n",
    "Each of the following will cause an exception (an error). Identify what type of exception each will cause."
   ]
  },
  {
   "cell_type": "markdown",
   "id": "a935bd5c",
   "metadata": {},
   "source": [
    "1.Trying to add incompatible variables, as in adding 6 + ‘a’"
   ]
  },
  {
   "cell_type": "code",
   "execution_count": 61,
   "id": "ca4ab942",
   "metadata": {},
   "outputs": [
    {
     "ename": "TypeError",
     "evalue": "unsupported operand type(s) for +: 'int' and 'str'",
     "output_type": "error",
     "traceback": [
      "\u001b[1;31m---------------------------------------------------------------------------\u001b[0m",
      "\u001b[1;31mTypeError\u001b[0m                                 Traceback (most recent call last)",
      "Input \u001b[1;32mIn [61]\u001b[0m, in \u001b[0;36m<module>\u001b[1;34m\u001b[0m\n\u001b[1;32m----> 1\u001b[0m \u001b[38;5;241;43m6\u001b[39;49m\u001b[43m \u001b[49m\u001b[38;5;241;43m+\u001b[39;49m\u001b[43m \u001b[49m\u001b[38;5;124;43m'\u001b[39;49m\u001b[38;5;124;43ma\u001b[39;49m\u001b[38;5;124;43m'\u001b[39;49m\n",
      "\u001b[1;31mTypeError\u001b[0m: unsupported operand type(s) for +: 'int' and 'str'"
     ]
    }
   ],
   "source": [
    "6 + 'a'"
   ]
  },
  {
   "cell_type": "markdown",
   "id": "19fc62b2",
   "metadata": {},
   "source": [
    "2.Referring to the 12th item of a list that has only 10 items"
   ]
  },
  {
   "cell_type": "code",
   "execution_count": 63,
   "id": "9be06e3a",
   "metadata": {},
   "outputs": [
    {
     "ename": "IndexError",
     "evalue": "list index out of range",
     "output_type": "error",
     "traceback": [
      "\u001b[1;31m---------------------------------------------------------------------------\u001b[0m",
      "\u001b[1;31mIndexError\u001b[0m                                Traceback (most recent call last)",
      "Input \u001b[1;32mIn [63]\u001b[0m, in \u001b[0;36m<module>\u001b[1;34m\u001b[0m\n\u001b[0;32m      1\u001b[0m \u001b[38;5;28mlist\u001b[39m \u001b[38;5;241m=\u001b[39m [\u001b[38;5;124m'\u001b[39m\u001b[38;5;124mA\u001b[39m\u001b[38;5;124m'\u001b[39m,\u001b[38;5;124m'\u001b[39m\u001b[38;5;124mB\u001b[39m\u001b[38;5;124m'\u001b[39m,\u001b[38;5;124m'\u001b[39m\u001b[38;5;124mC\u001b[39m\u001b[38;5;124m'\u001b[39m,\u001b[38;5;124m'\u001b[39m\u001b[38;5;124mD\u001b[39m\u001b[38;5;124m'\u001b[39m,\u001b[38;5;124m'\u001b[39m\u001b[38;5;124mE\u001b[39m\u001b[38;5;124m'\u001b[39m,\u001b[38;5;124m'\u001b[39m\u001b[38;5;124mF\u001b[39m\u001b[38;5;124m'\u001b[39m,\u001b[38;5;124m'\u001b[39m\u001b[38;5;124mG\u001b[39m\u001b[38;5;124m'\u001b[39m,\u001b[38;5;124m'\u001b[39m\u001b[38;5;124mH\u001b[39m\u001b[38;5;124m'\u001b[39m,\u001b[38;5;124m'\u001b[39m\u001b[38;5;124mI\u001b[39m\u001b[38;5;124m'\u001b[39m,\u001b[38;5;124m'\u001b[39m\u001b[38;5;124mJ\u001b[39m\u001b[38;5;124m'\u001b[39m] \n\u001b[1;32m----> 2\u001b[0m \u001b[38;5;28mprint\u001b[39m(\u001b[38;5;28;43mlist\u001b[39;49m\u001b[43m \u001b[49m\u001b[43m[\u001b[49m\u001b[38;5;241;43m12\u001b[39;49m\u001b[43m]\u001b[49m)\n",
      "\u001b[1;31mIndexError\u001b[0m: list index out of range"
     ]
    }
   ],
   "source": [
    "list = ['A','B','C','D','E','F','G','H','I','J'] \n",
    "print(list [12])"
   ]
  },
  {
   "cell_type": "markdown",
   "id": "07f5bb0f",
   "metadata": {},
   "source": [
    "3.Using a value that is out of range for a function’s input, such as calling math.sqrt( 1.0)"
   ]
  },
  {
   "cell_type": "code",
   "execution_count": 64,
   "id": "1b50bb7b",
   "metadata": {},
   "outputs": [
    {
     "ename": "ValueError",
     "evalue": "math domain error",
     "output_type": "error",
     "traceback": [
      "\u001b[1;31m---------------------------------------------------------------------------\u001b[0m",
      "\u001b[1;31mValueError\u001b[0m                                Traceback (most recent call last)",
      "Input \u001b[1;32mIn [64]\u001b[0m, in \u001b[0;36m<module>\u001b[1;34m\u001b[0m\n\u001b[0;32m      1\u001b[0m \u001b[38;5;28;01mimport\u001b[39;00m \u001b[38;5;21;01mmath\u001b[39;00m\n\u001b[1;32m----> 2\u001b[0m \u001b[43mmath\u001b[49m\u001b[38;5;241;43m.\u001b[39;49m\u001b[43msqrt\u001b[49m\u001b[43m(\u001b[49m\u001b[38;5;241;43m-\u001b[39;49m\u001b[38;5;241;43m1.0\u001b[39;49m\u001b[43m)\u001b[49m\n",
      "\u001b[1;31mValueError\u001b[0m: math domain error"
     ]
    }
   ],
   "source": [
    "import math\n",
    "math.sqrt(-1.0)"
   ]
  },
  {
   "cell_type": "markdown",
   "id": "8e896e47",
   "metadata": {},
   "source": [
    "4.Using an undeclared variable, such as p rint(x)when x has not been defined"
   ]
  },
  {
   "cell_type": "code",
   "execution_count": 66,
   "id": "e6963c4c",
   "metadata": {},
   "outputs": [
    {
     "ename": "NameError",
     "evalue": "name 'Jaykumar' is not defined",
     "output_type": "error",
     "traceback": [
      "\u001b[1;31m---------------------------------------------------------------------------\u001b[0m",
      "\u001b[1;31mNameError\u001b[0m                                 Traceback (most recent call last)",
      "Input \u001b[1;32mIn [66]\u001b[0m, in \u001b[0;36m<module>\u001b[1;34m\u001b[0m\n\u001b[1;32m----> 1\u001b[0m \u001b[38;5;28mprint\u001b[39m(\u001b[43mJaykumar\u001b[49m)\n",
      "\u001b[1;31mNameError\u001b[0m: name 'Jaykumar' is not defined"
     ]
    }
   ],
   "source": [
    "print(Jaykumar)"
   ]
  },
  {
   "cell_type": "markdown",
   "id": "2c1538d6",
   "metadata": {},
   "source": [
    "5.Trying to open a file that does not exist, such as mistyping the file name or looking in the wrong directory."
   ]
  },
  {
   "cell_type": "code",
   "execution_count": 67,
   "id": "46407864",
   "metadata": {
    "scrolled": true
   },
   "outputs": [
    {
     "ename": "FileNotFoundError",
     "evalue": "[Errno 2] No such file or directory: 'Solutions.txt'",
     "output_type": "error",
     "traceback": [
      "\u001b[1;31m---------------------------------------------------------------------------\u001b[0m",
      "\u001b[1;31mFileNotFoundError\u001b[0m                         Traceback (most recent call last)",
      "Input \u001b[1;32mIn [67]\u001b[0m, in \u001b[0;36m<module>\u001b[1;34m\u001b[0m\n\u001b[1;32m----> 1\u001b[0m f \u001b[38;5;241m=\u001b[39m \u001b[38;5;28;43mopen\u001b[39;49m\u001b[43m(\u001b[49m\u001b[38;5;124;43m\"\u001b[39;49m\u001b[38;5;124;43mSolutions.txt\u001b[39;49m\u001b[38;5;124;43m\"\u001b[39;49m\u001b[43m,\u001b[49m\u001b[43m \u001b[49m\u001b[38;5;124;43m\"\u001b[39;49m\u001b[38;5;124;43mr\u001b[39;49m\u001b[38;5;124;43m\"\u001b[39;49m\u001b[43m)\u001b[49m\n\u001b[0;32m      2\u001b[0m \u001b[38;5;28mprint\u001b[39m(f\u001b[38;5;241m.\u001b[39mreadlines())\n",
      "\u001b[1;31mFileNotFoundError\u001b[0m: [Errno 2] No such file or directory: 'Solutions.txt'"
     ]
    }
   ],
   "source": [
    "f = open(\"Solutions.txt\", \"r\")\n",
    "print(f.readlines())"
   ]
  },
  {
   "cell_type": "markdown",
   "id": "67e05dc3",
   "metadata": {},
   "source": [
    "#Question 10 Python\n",
    "\n",
    "Encryption is the process of hiding the meaning of a text by substituting letters in the message with other letters, according to some system. If the process is successful, no one but the intended recipient can understand the encrypted message. Cryptanalysis refers to attempts to undo the encryption, even if some details of the encryption are unknown (for example, if an encrypted message has been intercepted). The first step of cryptanalysis is often to build up a table of letter frequencies in the encrypted text. Assume that the string letters is already defined as 'abcdefghijklmnopqrstuvwxyz'. \n",
    "\n",
    "Write a function called frequencies() that takes a string as its only parameter, and returns a list of integers, showing the number of times each character appears in the text. Your function may ignore any characters that are not in letters.\n"
   ]
  },
  {
   "cell_type": "code",
   "execution_count": 60,
   "id": "0c4f82c0",
   "metadata": {},
   "outputs": [],
   "source": [
    "letters = 'abcdefghijklmnopqrstuvwxyz'\n",
    "x = letters.split();\n",
    "def frequencies(string):\n",
    "    result=[]    \n",
    "    if (type(string)==str):      \n",
    "        strng = string.replace(' ','')\n",
    "        list1 = list(strng)        \n",
    "        for char in alphabets:\n",
    "            crypt = list1.count(char)\n",
    "            result.append(crypt)\n",
    "        print(result)    \n",
    "    else:\n",
    "        print(\"Error: Please only enter a string.\")"
   ]
  },
  {
   "cell_type": "code",
   "execution_count": 61,
   "id": "10dea31e",
   "metadata": {},
   "outputs": [
    {
     "name": "stdout",
     "output_type": "stream",
     "text": [
      "[1, 1, 1, 3, 5, 1, 1, 2, 1, 0, 1, 0, 1, 2, 4, 0, 1, 2, 0, 2, 1, 0, 1, 1, 0, 0]\n"
     ]
    }
   ],
   "source": [
    "frequencies('The quick red fox got bored and went home.')"
   ]
  },
  {
   "cell_type": "code",
   "execution_count": 51,
   "id": "ef4b414a",
   "metadata": {},
   "outputs": [
    {
     "name": "stdout",
     "output_type": "stream",
     "text": [
      "[1, 0, 0, 0, 1, 0, 0, 0, 0, 0, 0, 1, 0, 0, 0, 2, 0, 0, 0, 0, 0, 0, 0, 0, 0, 0]\n"
     ]
    }
   ],
   "source": [
    "frequencies('apple')"
   ]
  }
 ],
 "metadata": {
  "kernelspec": {
   "display_name": "Python 3 (ipykernel)",
   "language": "python",
   "name": "python3"
  },
  "language_info": {
   "codemirror_mode": {
    "name": "ipython",
    "version": 3
   },
   "file_extension": ".py",
   "mimetype": "text/x-python",
   "name": "python",
   "nbconvert_exporter": "python",
   "pygments_lexer": "ipython3",
   "version": "3.9.7"
  }
 },
 "nbformat": 4,
 "nbformat_minor": 5
}
