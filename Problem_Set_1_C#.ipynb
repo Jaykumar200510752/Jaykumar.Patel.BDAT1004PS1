{
 "cells": [
  {
   "cell_type": "markdown",
   "id": "56dd19c4",
   "metadata": {},
   "source": [
    "# Question 1 C#"
   ]
  },
  {
   "cell_type": "markdown",
   "id": "044a31fd",
   "metadata": {},
   "source": [
    "###  What data type is each of the following?\n",
    "\n",
    "#### 1.What data type is each of the following?\n"
   ]
  },
  {
   "cell_type": "code",
   "execution_count": 1,
   "id": "ca5f8c71",
   "metadata": {},
   "outputs": [
    {
     "data": {
      "text/html": [
       "\r\n",
       "<div>\r\n",
       "    <div id='dotnet-interactive-this-cell-9780.Microsoft.DotNet.Interactive.Http.HttpPort' style='display: none'>\r\n",
       "        The below script needs to be able to find the current output cell; this is an easy method to get it.\r\n",
       "    </div>\r\n",
       "    <script type='text/javascript'>\r\n",
       "async function probeAddresses(probingAddresses) {\r\n",
       "    function timeout(ms, promise) {\r\n",
       "        return new Promise(function (resolve, reject) {\r\n",
       "            setTimeout(function () {\r\n",
       "                reject(new Error('timeout'))\r\n",
       "            }, ms)\r\n",
       "            promise.then(resolve, reject)\r\n",
       "        })\r\n",
       "    }\r\n",
       "\r\n",
       "    if (Array.isArray(probingAddresses)) {\r\n",
       "        for (let i = 0; i < probingAddresses.length; i++) {\r\n",
       "\r\n",
       "            let rootUrl = probingAddresses[i];\r\n",
       "\r\n",
       "            if (!rootUrl.endsWith('/')) {\r\n",
       "                rootUrl = `${rootUrl}/`;\r\n",
       "            }\r\n",
       "\r\n",
       "            try {\r\n",
       "                let response = await timeout(1000, fetch(`${rootUrl}discovery`, {\r\n",
       "                    method: 'POST',\r\n",
       "                    cache: 'no-cache',\r\n",
       "                    mode: 'cors',\r\n",
       "                    timeout: 1000,\r\n",
       "                    headers: {\r\n",
       "                        'Content-Type': 'text/plain'\r\n",
       "                    },\r\n",
       "                    body: probingAddresses[i]\r\n",
       "                }));\r\n",
       "\r\n",
       "                if (response.status == 200) {\r\n",
       "                    return rootUrl;\r\n",
       "                }\r\n",
       "            }\r\n",
       "            catch (e) { }\r\n",
       "        }\r\n",
       "    }\r\n",
       "}\r\n",
       "\r\n",
       "function loadDotnetInteractiveApi() {\r\n",
       "    probeAddresses([\"http://192.168.56.1:1000/\", \"http://169.254.180.126:1000/\", \"http://192.168.137.2:1000/\", \"http://192.168.19.2:1000/\", \"http://192.168.228.2:1000/\", \"http://192.168.164.1:1000/\", \"http://192.168.136.1:1000/\", \"http://192.168.0.102:1000/\", \"http://127.0.0.1:1000/\"])\r\n",
       "        .then((root) => {\r\n",
       "        // use probing to find host url and api resources\r\n",
       "        // load interactive helpers and language services\r\n",
       "        let dotnetInteractiveRequire = require.config({\r\n",
       "        context: '9780.Microsoft.DotNet.Interactive.Http.HttpPort',\r\n",
       "                paths:\r\n",
       "            {\r\n",
       "                'dotnet-interactive': `${root}resources`\r\n",
       "                }\r\n",
       "        }) || require;\r\n",
       "\r\n",
       "            window.dotnetInteractiveRequire = dotnetInteractiveRequire;\r\n",
       "\r\n",
       "            window.configureRequireFromExtension = function(extensionName, extensionCacheBuster) {\r\n",
       "                let paths = {};\r\n",
       "                paths[extensionName] = `${root}extensions/${extensionName}/resources/`;\r\n",
       "                \r\n",
       "                let internalRequire = require.config({\r\n",
       "                    context: extensionCacheBuster,\r\n",
       "                    paths: paths,\r\n",
       "                    urlArgs: `cacheBuster=${extensionCacheBuster}`\r\n",
       "                    }) || require;\r\n",
       "\r\n",
       "                return internalRequire\r\n",
       "            };\r\n",
       "        \r\n",
       "            dotnetInteractiveRequire([\r\n",
       "                    'dotnet-interactive/dotnet-interactive'\r\n",
       "                ],\r\n",
       "                function (dotnet) {\r\n",
       "                    dotnet.init(window);\r\n",
       "                },\r\n",
       "                function (error) {\r\n",
       "                    console.log(error);\r\n",
       "                }\r\n",
       "            );\r\n",
       "        })\r\n",
       "        .catch(error => {console.log(error);});\r\n",
       "    }\r\n",
       "\r\n",
       "// ensure `require` is available globally\r\n",
       "if ((typeof(require) !==  typeof(Function)) || (typeof(require.config) !== typeof(Function))) {\r\n",
       "    let require_script = document.createElement('script');\r\n",
       "    require_script.setAttribute('src', 'https://cdnjs.cloudflare.com/ajax/libs/require.js/2.3.6/require.min.js');\r\n",
       "    require_script.setAttribute('type', 'text/javascript');\r\n",
       "    \r\n",
       "    \r\n",
       "    require_script.onload = function() {\r\n",
       "        loadDotnetInteractiveApi();\r\n",
       "    };\r\n",
       "\r\n",
       "    document.getElementsByTagName('head')[0].appendChild(require_script);\r\n",
       "}\r\n",
       "else {\r\n",
       "    loadDotnetInteractiveApi();\r\n",
       "}\r\n",
       "\r\n",
       "    </script>\r\n",
       "</div>"
      ]
     },
     "metadata": {},
     "output_type": "display_data"
    },
    {
     "name": "stdout",
     "output_type": "stream",
     "text": [
      "System.Int32\r\n"
     ]
    }
   ],
   "source": [
    "int a=5;\n",
    "Console.WriteLine(a.GetType());"
   ]
  },
  {
   "cell_type": "code",
   "execution_count": 2,
   "id": "12082510",
   "metadata": {},
   "outputs": [
    {
     "name": "stdout",
     "output_type": "stream",
     "text": [
      "System.Double\r\n"
     ]
    }
   ],
   "source": [
    "double a=5.0;\n",
    "Console.WriteLine(a.GetType());"
   ]
  },
  {
   "cell_type": "code",
   "execution_count": 3,
   "id": "d304ef22",
   "metadata": {},
   "outputs": [
    {
     "name": "stdout",
     "output_type": "stream",
     "text": [
      "System.Char\r\n"
     ]
    }
   ],
   "source": [
    "char a='5';\n",
    "Console.WriteLine(a.GetType());"
   ]
  },
  {
   "cell_type": "code",
   "execution_count": 4,
   "id": "761440e3",
   "metadata": {},
   "outputs": [
    {
     "name": "stdout",
     "output_type": "stream",
     "text": [
      "System.Int32\r\n"
     ]
    }
   ],
   "source": [
    "int a=5*2;\n",
    "Console.WriteLine(a.GetType());"
   ]
  },
  {
   "cell_type": "code",
   "execution_count": 5,
   "id": "81b0146f",
   "metadata": {},
   "outputs": [
    {
     "name": "stdout",
     "output_type": "stream",
     "text": [
      "System.Int32\r\n"
     ]
    }
   ],
   "source": [
    "int a='5'+'2';\n",
    "Console.WriteLine(a.GetType());"
   ]
  },
  {
   "cell_type": "code",
   "execution_count": 6,
   "id": "cc99de73",
   "metadata": {},
   "outputs": [
    {
     "name": "stdout",
     "output_type": "stream",
     "text": [
      "System.Int32\r\n"
     ]
    }
   ],
   "source": [
    "int a=5/2;\n",
    "Console.WriteLine(a.GetType());"
   ]
  },
  {
   "cell_type": "code",
   "execution_count": 7,
   "id": "90f4e67f",
   "metadata": {},
   "outputs": [
    {
     "name": "stdout",
     "output_type": "stream",
     "text": [
      "System.Int32\r\n"
     ]
    }
   ],
   "source": [
    "int a=5%2;\n",
    "Console.WriteLine(a.GetType());"
   ]
  },
  {
   "cell_type": "code",
   "execution_count": 8,
   "id": "785eae8f",
   "metadata": {},
   "outputs": [
    {
     "name": "stdout",
     "output_type": "stream",
     "text": [
      "System.Int32[]\r\n"
     ]
    }
   ],
   "source": [
    "int []a={5,2,1};\n",
    "Console.WriteLine(a.GetType());"
   ]
  },
  {
   "cell_type": "code",
   "execution_count": 9,
   "id": "8d2dae45",
   "metadata": {},
   "outputs": [
    {
     "name": "stdout",
     "output_type": "stream",
     "text": [
      "System.Boolean\r\n"
     ]
    }
   ],
   "source": [
    "Boolean a=(5==3);\n",
    "Console.WriteLine(a.GetType());"
   ]
  },
  {
   "cell_type": "code",
   "execution_count": 10,
   "id": "b86f4982",
   "metadata": {},
   "outputs": [
    {
     "name": "stdout",
     "output_type": "stream",
     "text": [
      "System.Double\r\n"
     ]
    }
   ],
   "source": [
    "double a=22/7;\n",
    "Console.WriteLine(a.GetType());"
   ]
  },
  {
   "cell_type": "markdown",
   "id": "b4caf009",
   "metadata": {},
   "source": [
    "# Question 2 C#\n"
   ]
  },
  {
   "cell_type": "markdown",
   "id": "562066d2",
   "metadata": {},
   "source": [
    "### Write (and evaluate) C# expressions that answer these questions:\n",
    "\n",
    "#### a. How many letters are there in 'Supercalifragilisticexpialidocious'?"
   ]
  },
  {
   "cell_type": "code",
   "execution_count": 56,
   "id": "f0484d80",
   "metadata": {},
   "outputs": [
    {
     "name": "stdout",
     "output_type": "stream",
     "text": [
      "Length of the Given string: 34\r\n"
     ]
    }
   ],
   "source": [
    "string S= \"Supercalifragilisticexpialidocious\";\n",
    "  int a= S.Length;\n",
    "  Console.WriteLine(\"Length of the Given string: \"+a)"
   ]
  },
  {
   "cell_type": "markdown",
   "id": "67371211",
   "metadata": {},
   "source": [
    "#### b. Does 'Supercalifragilisticexpialidocious' contain 'ice' as a substring?"
   ]
  },
  {
   "cell_type": "code",
   "execution_count": 57,
   "id": "e9300064",
   "metadata": {},
   "outputs": [
    {
     "name": "stdout",
     "output_type": "stream",
     "text": [
      "Given String contains the Substring ice\r\n"
     ]
    }
   ],
   "source": [
    "String String = \"Supercalifragilisticexpialidocious\";\n",
    "String key= \"ice\"; \n",
    "\n",
    "if(String.Contains(key)) \n",
    "         \n",
    "    Console.WriteLine(\"Given String contains the Substring ice\");\n",
    "        \n",
    "else \n",
    "    Console.WriteLine(\"Given String does not contains the Substring ice\");"
   ]
  },
  {
   "cell_type": "markdown",
   "id": "2ddc1e70",
   "metadata": {},
   "source": [
    "#### c. Which of the following words is the longest:\n",
    "\n",
    "##### Supercalifragilisticexpialidocious, Honorificabilitudinitatibus, or Bababadalgharaghtakamminarronnkonn?"
   ]
  },
  {
   "cell_type": "code",
   "execution_count": 59,
   "id": "d1483060",
   "metadata": {},
   "outputs": [
    {
     "name": "stdout",
     "output_type": "stream",
     "text": [
      "Longest word is the Bababadalgharaghtakamminarronnkonn\r\n"
     ]
    }
   ],
   "source": [
    "string w1 = \"Supercalifragilisticexpialidocious\";\n",
    "string w2= \"Honorificabilitudinitatibus\";\n",
    "string w3 = \"Bababadalgharaghtakamminarronnkonn\";\n",
    "          if (w1.Length > w2.Length)\n",
    "                {\n",
    "                    if(w1.Length > w3.Length)\n",
    "                    {Console.WriteLine($\"Longest word is the {w1}\");}\n",
    "                    else  \n",
    "                    {Console.WriteLine($\"Longest word is the {w3}\");}\n",
    "                \n",
    "                }\n",
    "          else\n",
    "                {\n",
    "                    if (w2.Length < w3.Length)\n",
    "                    {Console.WriteLine($\"Longest word is the {w3}\");}\n",
    "                    else\n",
    "                    {Console.WriteLine($\"Longest word is the {w2}\");}\n",
    "                \n",
    "                }\n"
   ]
  },
  {
   "cell_type": "markdown",
   "id": "7bb21c96",
   "metadata": {},
   "source": [
    "#### d. Which composer comes first in the dictionary: 'Berlioz', 'Borodin', 'Brian','Bartok', 'Bellini', 'Buxtehude', 'Bernstein'. Which one comes last?"
   ]
  },
  {
   "cell_type": "code",
   "execution_count": 15,
   "id": "47b05e0f",
   "metadata": {},
   "outputs": [
    {
     "name": "stdout",
     "output_type": "stream",
     "text": [
      "Bartok,Bellini,Berlioz,Bernstein,Borodin,Brian,Buxtehude\n",
      "Bartok comes first the dictionary\n",
      "Buxtehude comes last in the dictionary\n"
     ]
    }
   ],
   "source": [
    "var words = new List<string> {\"Berlioz\", \"Borodin\", \"Brian\",\n",
    "\"Bartok\", \"Bellini\", \"Buxtehude\", \"Bernstein\"};\n",
    "\n",
    "words.Sort();\n",
    "Console.WriteLine(string.Join(\",\", words));\n",
    "for (int i=0;i<7;i++){}\n",
    "Console.WriteLine($\"{words[0]} comes first the dictionary\");\n",
    "Console.WriteLine($\"{words[6]} comes last in the dictionary\");"
   ]
  },
  {
   "cell_type": "markdown",
   "id": "dc759090",
   "metadata": {},
   "source": [
    "# Question 3 C#"
   ]
  },
  {
   "cell_type": "markdown",
   "id": "48e1d9ed",
   "metadata": {},
   "source": [
    "### Implement function triangleArea(a,b,c) that takes as input the lengths of the 3 sides of a triangle and returns the area of the triangle. By Heron's formula, the area of a triangle with side lengths a, b, and c is s(s - a)(s - b)(s - c) , where\n",
    "\n",
    "$s = (a + b + c) /2$\n",
    "\n",
    "$>>> triangleArea(2,2,2)$ \n",
    "\n",
    "$1.7320508075688772$"
   ]
  },
  {
   "cell_type": "code",
   "execution_count": 60,
   "id": "35afa7e6",
   "metadata": {},
   "outputs": [
    {
     "name": "stdout",
     "output_type": "stream",
     "text": [
      "enter value side1:\n",
      "2\n",
      "enter value side2:\n",
      "2\n",
      "enter value side3:\n",
      "2\n",
      "Area of Triangle : 1.7320508075688772\n"
     ]
    }
   ],
   "source": [
    "double triangleArea(int x,int y,int z)\n",
    "        {\n",
    "            double s = (x + y + z) / 2;\n",
    "            return Math.Sqrt(s * (s - x) *(s - y) * (s - z));\n",
    "        }\n",
    "            Console.WriteLine(\"enter value side1:\");\n",
    "            int a = Convert.ToInt32(input());\n",
    "            Console.WriteLine(\"enter value side2:\");\n",
    "            int b = Convert.ToInt32(input());\n",
    "            Console.WriteLine(\"enter value side3:\");\n",
    "            int c = Convert.ToInt32(input());\n",
    "            double Area = triangleArea(a, b, c);\n",
    "            Console.WriteLine($\"Area of Triangle : {Area}\");"
   ]
  },
  {
   "cell_type": "markdown",
   "id": "37711208",
   "metadata": {},
   "source": [
    "## Question 4 C#"
   ]
  },
  {
   "cell_type": "markdown",
   "id": "ebd91bd4",
   "metadata": {},
   "source": [
    "### Write a program in C# Sharp to separate odd and even integers in separate arrays.\n",
    "\n",
    "Go to the editor\n",
    "Test Data :\n",
    "Input the number of elements to be stored in the array :5\n",
    "\n",
    "Input 5 elements in the array :\n",
    "\n",
    "element - 0 : 25\n",
    "\n",
    "element - 1 : 47\n",
    "\n",
    "element - 2 : 42\n",
    "\n",
    "element - 3 : 56\n",
    "\n",
    "element - 4 : 32\n",
    "\n",
    "Expected Output:\n",
    "\n",
    "The Even elements are:\n",
    "42 56 32\n",
    "\n",
    "The Odd elements are :\n",
    "25 47\n"
   ]
  },
  {
   "cell_type": "code",
   "execution_count": 16,
   "id": "42f4d4c5",
   "metadata": {},
   "outputs": [
    {
     "name": "stdout",
     "output_type": "stream",
     "text": [
      "Input the number of elements to be stored in the array\n",
      "5\n",
      "Input 5 elements in the array:\n",
      "element 0:\n",
      "25\n",
      "element 1:\n",
      "47\n",
      "element 2:\n",
      "42\n",
      "element 3:\n",
      "56\n",
      "element 4:\n",
      "32\n",
      "The even elements are:- \n",
      " 42 56 32\n",
      "The odd elements are:- \n",
      " 25 47"
     ]
    }
   ],
   "source": [
    "int[] arr1 = new int[10];\n",
    "int[] arr2 = new int[10];\n",
    "int[] arr3 = new int[10];\n",
    "Console.WriteLine(\"Input the number of elements to be stored in the array\");\n",
    "int x = Convert.ToInt32(input());\n",
    "Console.WriteLine($\"Input {x} elements in the array:\");\n",
    "for(i=0;i<x;i++)\n",
    "    {\n",
    "            Console.WriteLine($\"element {i}:\");\n",
    "            arr1[i] = Convert.ToInt32(input());\n",
    "    }\n",
    "\n",
    "int i, j = 0, k = 0;\n",
    "for (i = 0; i < x; i++) \n",
    "    {\n",
    "        if (arr1[i] % 2 == 0)\n",
    "            {arr2[j] = arr1[i];j++;} \n",
    "        else {arr3[k] = arr1[i];k++;}\n",
    "    }\n",
    "    Console.WriteLine(\"The even elements are:- \");\n",
    "for(i = 0; i < j; i++)\n",
    "    {\n",
    "        Console.Write($\" {arr2[i]}\");\n",
    "    }\n",
    "    Console.WriteLine(\"\\nThe odd elements are:- \");\n",
    "for (i = 0; i < k; i++)\n",
    "    {\n",
    "        Console.Write($\" {arr3[i]}\");\n",
    "    }\n"
   ]
  },
  {
   "cell_type": "markdown",
   "id": "cee4215d",
   "metadata": {},
   "source": [
    "# Question 5 C#\n",
    "\n",
    "### a. Write a function inside(x,y,x1,y1,x2,y2) that returns True or False depending on whether the point (x,y) lies in the rectangle with lower left corner (x1,y1) and upper right corner (x2,y2).\n",
    "\n",
    "$>>> inside(1,1,0,0,2,3)$\n",
    "$True$\n",
    "\n",
    "$>>> inside(-1,-1,0,0,2,3)$\n",
    "$False$"
   ]
  },
  {
   "cell_type": "code",
   "execution_count": 44,
   "id": "30f68a71",
   "metadata": {
    "scrolled": true
   },
   "outputs": [
    {
     "name": "stdout",
     "output_type": "stream",
     "text": [
      "TrueFalse"
     ]
    }
   ],
   "source": [
    "static bool inside(double x, double y, double x1,\n",
    "                          double y1, double x2, double y2)\n",
    "    {\n",
    "        if (x > x1 && x < x2 && y > y1 && y < y2)\n",
    "            return true;\n",
    "\n",
    "        return false;\n",
    "    }\n",
    "bool x = inside(1,1,0,0,2,3);\n",
    "Console.Write(x);\n",
    "\n",
    "bool y = inside(-1,-1,0,0,2,3);\n",
    "Console.Write(y);    "
   ]
  },
  {
   "cell_type": "markdown",
   "id": "fe0ae2f2",
   "metadata": {},
   "source": [
    "### b. Use function inside() from part a. to write an expression that tests whether the point (1,1) lies in both of the following rectangles: one with lower left corner (0.3, 0.5) and upper right corner (1.1, 0.7) and the other with lower left corner (0.5, 0.2) and upper right corner (1.1, 2)."
   ]
  },
  {
   "cell_type": "code",
   "execution_count": 52,
   "id": "ac2718e6",
   "metadata": {},
   "outputs": [
    {
     "name": "stdout",
     "output_type": "stream",
     "text": [
      "No"
     ]
    }
   ],
   "source": [
    "static bool inside(double x, double y, double x1,\n",
    "                          double y1, double x2, double y2)\n",
    "    {\n",
    "        if (x > x1 && x < x2 && y > y1 && y < y2)\n",
    "            return true;\n",
    "\n",
    "        return false;\n",
    "    }\n",
    "bool rect1 = inside(1,1,0.3,0.5,1.1,0.7);\n",
    "bool rect2 = inside(1,1,0.5,0.2,1.1,2); \n",
    "if (x)\n",
    "        {\n",
    "                if (y)\n",
    "                    Console.Write(\"Yes\");\n",
    "                else\n",
    "                    Console.Write(\"No\");\n",
    "            Console.Write(\"Yes\");\n",
    "        }\n",
    "        else\n",
    "            Console.Write(\"No\");"
   ]
  }
 ],
 "metadata": {
  "kernelspec": {
   "display_name": ".NET (C#)",
   "language": "C#",
   "name": ".net-csharp"
  },
  "language_info": {
   "file_extension": ".cs",
   "mimetype": "text/x-csharp",
   "name": "C#",
   "pygments_lexer": "csharp",
   "version": "9.0"
  }
 },
 "nbformat": 4,
 "nbformat_minor": 5
}
